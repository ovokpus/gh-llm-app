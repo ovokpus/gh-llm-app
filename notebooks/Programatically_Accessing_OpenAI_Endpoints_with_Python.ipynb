{
  "cells": [
    {
      "cell_type": "markdown",
      "source": [
        "### Using the OpenAI Library to Programmatically Access GPT-3.5-turbo!\n",
        "\n",
        "This notebook was authored by [Chris Alexiuk](https://www.linkedin.com/in/csalexiuk/)"
      ],
      "metadata": {
        "id": "UIuhLOcmCdyR"
      }
    },
    {
      "cell_type": "code",
      "source": [
        "!pip install openai cohere tiktoken -qU"
      ],
      "metadata": {
        "id": "3qCKaH6vD-jZ",
        "colab": {
          "base_uri": "https://localhost:8080/"
        },
        "outputId": "eabeef2e-6cca-46a1-b897-c3114aa7eaf9"
      },
      "execution_count": 1,
      "outputs": [
        {
          "output_type": "stream",
          "name": "stdout",
          "text": [
            "\u001b[?25l   \u001b[90m━━━━━━━━━━━━━━━━━━━━━━━━━━━━━━━━━━━━━━━━\u001b[0m \u001b[32m0.0/661.2 kB\u001b[0m \u001b[31m?\u001b[0m eta \u001b[36m-:--:--\u001b[0m\r\u001b[2K   \u001b[91m━━━━━━━━━━━━━━━━━━━━━━━━━━━━━━━━━━━━━━━\u001b[0m\u001b[91m╸\u001b[0m \u001b[32m655.4/661.2 kB\u001b[0m \u001b[31m32.5 MB/s\u001b[0m eta \u001b[36m0:00:01\u001b[0m\r\u001b[2K   \u001b[90m━━━━━━━━━━━━━━━━━━━━━━━━━━━━━━━━━━━━━━━━\u001b[0m \u001b[32m661.2/661.2 kB\u001b[0m \u001b[31m14.3 MB/s\u001b[0m eta \u001b[36m0:00:00\u001b[0m\n",
            "\u001b[?25h\u001b[?25l   \u001b[90m━━━━━━━━━━━━━━━━━━━━━━━━━━━━━━━━━━━━━━━━\u001b[0m \u001b[32m0.0/259.5 kB\u001b[0m \u001b[31m?\u001b[0m eta \u001b[36m-:--:--\u001b[0m\r\u001b[2K   \u001b[91m━━━━━━━━━━━━━━━━━━━━━━━━━━━━━━━━━━━━━━━\u001b[0m\u001b[90m╺\u001b[0m \u001b[32m256.0/259.5 kB\u001b[0m \u001b[31m37.3 MB/s\u001b[0m eta \u001b[36m0:00:01\u001b[0m\r\u001b[2K   \u001b[90m━━━━━━━━━━━━━━━━━━━━━━━━━━━━━━━━━━━━━━━━\u001b[0m \u001b[32m259.5/259.5 kB\u001b[0m \u001b[31m5.5 MB/s\u001b[0m eta \u001b[36m0:00:00\u001b[0m\n",
            "\u001b[2K   \u001b[90m━━━━━━━━━━━━━━━━━━━━━━━━━━━━━━━━━━━━━━━━\u001b[0m \u001b[32m1.2/1.2 MB\u001b[0m \u001b[31m18.1 MB/s\u001b[0m eta \u001b[36m0:00:00\u001b[0m\n",
            "\u001b[2K   \u001b[90m━━━━━━━━━━━━━━━━━━━━━━━━━━━━━━━━━━━━━━━━\u001b[0m \u001b[32m3.3/3.3 MB\u001b[0m \u001b[31m25.1 MB/s\u001b[0m eta \u001b[36m0:00:00\u001b[0m\n",
            "\u001b[?25h"
          ]
        }
      ]
    },
    {
      "cell_type": "markdown",
      "source": [
        "### OpenAI API Key"
      ],
      "metadata": {
        "id": "XxS23_1zpYid"
      }
    },
    {
      "cell_type": "code",
      "execution_count": 2,
      "metadata": {
        "id": "tpnsDCfEbsqS",
        "outputId": "38ab431d-7eb2-4ca5-8f8d-fb52e6eb72b3",
        "colab": {
          "base_uri": "https://localhost:8080/"
        }
      },
      "outputs": [
        {
          "name": "stdout",
          "output_type": "stream",
          "text": [
            "OpenAI API Key:··········\n"
          ]
        }
      ],
      "source": [
        "import os\n",
        "import openai\n",
        "import getpass\n",
        "\n",
        "# set the OPENAI_API_KEY environment variable\n",
        "openai.api_key = getpass.getpass(\"OpenAI API Key:\")"
      ]
    },
    {
      "cell_type": "markdown",
      "source": [
        "### Our First Prompt\n",
        "\n",
        "You can reference OpenAI's [documentation](https://platform.openai.com/docs/api-reference/authentication?lang=python) if you get stuck!\n",
        "\n",
        "Let's create a `ChatCompletion` model to kick things off!\n",
        "\n",
        "There are three \"roles\" available to use:\n",
        "\n",
        "- `system`\n",
        "- `assistant`\n",
        "- `user`\n",
        "\n",
        "OpenAI provides some context for these roles [here](https://help.openai.com/en/articles/7042661-chatgpt-api-transition-guide)\n",
        "\n",
        "Let's just stick to the `user` role for now and send our first message to the endpoint!\n",
        "\n",
        "If we check the documentation, we'll see that it expects it in a list of prompt objects - so we'll be sure to do that!"
      ],
      "metadata": {
        "id": "YHD49z39pbIS"
      }
    },
    {
      "cell_type": "code",
      "source": [
        "from openai import OpenAI\n",
        "\n",
        "client = OpenAI(api_key=openai.api_key)\n",
        "\n",
        "YOUR_PROMPT = \"How much wood could a woodchuck chuck if a woodchuck could chuck wood?\"\n",
        "\n",
        "client.chat.completions.create(\n",
        "    model=\"gpt-3.5-turbo\",\n",
        "    messages=[{\"role\" : \"user\", \"content\" : YOUR_PROMPT}]\n",
        ")"
      ],
      "metadata": {
        "id": "g0AL4VTwyWLN",
        "outputId": "9d67c6a0-2bc5-4796-f344-f7d7ef5d98ca",
        "colab": {
          "base_uri": "https://localhost:8080/"
        }
      },
      "execution_count": 4,
      "outputs": [
        {
          "output_type": "execute_result",
          "data": {
            "text/plain": [
              "ChatCompletion(id='chatcmpl-BRkuMjOfpFfkjZdNjAYm2nRV5q9hD', choices=[Choice(finish_reason='stop', index=0, logprobs=None, message=ChatCompletionMessage(content='A woodchuck can chuck approximately 700 pounds of wood in a day.', refusal=None, role='assistant', annotations=[], audio=None, function_call=None, tool_calls=None))], created=1745954870, model='gpt-3.5-turbo-0125', object='chat.completion', service_tier='default', system_fingerprint=None, usage=CompletionUsage(completion_tokens=17, prompt_tokens=25, total_tokens=42, completion_tokens_details=CompletionTokensDetails(accepted_prediction_tokens=0, audio_tokens=0, reasoning_tokens=0, rejected_prediction_tokens=0), prompt_tokens_details=PromptTokensDetails(audio_tokens=0, cached_tokens=0)))"
            ]
          },
          "metadata": {},
          "execution_count": 4
        }
      ]
    },
    {
      "cell_type": "markdown",
      "source": [
        "As you can see, the prompt comes back with a tonne of information that we can use when we're building our applications!\n",
        "\n",
        "Let's focus on extending that a bit, and incorporate a `system` message as well!\n",
        "\n",
        "Also, we'll be building some helper functions to display the prompts with Markdown!\n",
        "\n",
        "We'll also wrap our prompts so we don't have to keep making dictionaries for them!"
      ],
      "metadata": {
        "id": "FD_Z64hGy6RV"
      }
    },
    {
      "cell_type": "code",
      "execution_count": null,
      "metadata": {
        "id": "QSQMFfWKbsqT"
      },
      "outputs": [],
      "source": [
        "from IPython.display import display, Markdown\n",
        "\n",
        "def get_response(messages: str, model: str = \"gpt-3.5-turbo\") -> str:\n",
        "    return client.chat.completions.create(\n",
        "        model=model,\n",
        "        messages=messages\n",
        "    )\n",
        "\n",
        "def wrap_prompt(message: str, role: str) -> dict:\n",
        "    return {\"role\": role, \"content\": message}\n",
        "\n",
        "def m_print(message: str) -> str:\n",
        "    display(Markdown(message.choices[0].message.content))"
      ]
    },
    {
      "cell_type": "code",
      "execution_count": null,
      "metadata": {
        "id": "7aEd_p1sbsqT",
        "outputId": "d32cf1ff-d4aa-48a9-ebf5-f670c1750110",
        "colab": {
          "base_uri": "https://localhost:8080/",
          "height": 348
        }
      },
      "outputs": [
        {
          "output_type": "display_data",
          "data": {
            "text/plain": [
              "<IPython.core.display.Markdown object>"
            ],
            "text/markdown": "Sure! Here's a function that calculates the Nth Fibonacci number using recursion:\n\n```python\ndef fibonacci(n):\n    if n <= 0:\n        return \"Invalid input! N should be a positive integer.\"\n    elif n == 1:\n        return 0\n    elif n == 2:\n        return 1\n    else:\n        return fibonacci(n-1) + fibonacci(n-2)\n```\n\nYou can then call this function with the value of N to get the Nth Fibonacci number. For example:\n\n```python\nprint(fibonacci(10))  # Output: 34\nprint(fibonacci(5))   # Output: 3\nprint(fibonacci(1))   # Output: 0\n```\n\nNote that this recursive implementation can be slow for large values of N, as it recalculates values multiple times. To improve the performance, you can use memoization techniques or iterative approaches."
          },
          "metadata": {}
        }
      ],
      "source": [
        "system_prompt = wrap_prompt(\"You are a Python Programmer.\", \"system\")\n",
        "user_prompt = wrap_prompt(\"Can you write me a function in Python that calculates the Nth Fibonacci number?\", \"user\")\n",
        "\n",
        "openai_response = get_response([system_prompt, user_prompt])\n",
        "m_print(openai_response)"
      ]
    },
    {
      "cell_type": "code",
      "source": [
        "print(openai_response)"
      ],
      "metadata": {
        "colab": {
          "base_uri": "https://localhost:8080/"
        },
        "id": "N7EproZ5ztKt",
        "outputId": "a7ca3b15-87cf-4c27-8173-6534d9f70421"
      },
      "execution_count": null,
      "outputs": [
        {
          "output_type": "stream",
          "name": "stdout",
          "text": [
            "ChatCompletion(id='chatcmpl-8RU33PRWERkAHxaLWl484XfJ1s3Fn', choices=[Choice(finish_reason='stop', index=0, message=ChatCompletionMessage(content='Sure! Here\\'s a function that calculates the Nth Fibonacci number using recursion:\\n\\n```python\\ndef fibonacci(n):\\n    if n <= 0:\\n        return \"Invalid input! N should be a positive integer.\"\\n    elif n == 1:\\n        return 0\\n    elif n == 2:\\n        return 1\\n    else:\\n        return fibonacci(n-1) + fibonacci(n-2)\\n```\\n\\nYou can then call this function with the value of N to get the Nth Fibonacci number. For example:\\n\\n```python\\nprint(fibonacci(10))  # Output: 34\\nprint(fibonacci(5))   # Output: 3\\nprint(fibonacci(1))   # Output: 0\\n```\\n\\nNote that this recursive implementation can be slow for large values of N, as it recalculates values multiple times. To improve the performance, you can use memoization techniques or iterative approaches.', role='assistant', function_call=None, tool_calls=None))], created=1701561053, model='gpt-3.5-turbo-0613', object='chat.completion', system_fingerprint=None, usage=CompletionUsage(completion_tokens=192, prompt_tokens=33, total_tokens=225))\n"
          ]
        }
      ]
    },
    {
      "cell_type": "markdown",
      "source": [
        "You can add the `assistant` role to send messages as-if they're from the model itself - which can help us do \"few-shot\" prompt engineering!\n",
        "\n",
        "That's where we show the LLM a few examples of the output we'd like to see to help guide the model to our desired outputs!\n",
        "\n",
        "Let's see it in action!"
      ],
      "metadata": {
        "id": "YdhHoeo5zxbl"
      }
    },
    {
      "cell_type": "code",
      "source": [
        "prompt_list = [\n",
        "    wrap_prompt(\"You are an expert food critic, and also a pirate.\", \"system\"),\n",
        "    wrap_prompt(\"Hi, are apples any good?\", \"user\"),\n",
        "    wrap_prompt(\"Ahoy matey. Apples be the finest of the edible treasures.\", \"assistant\"),\n",
        "    wrap_prompt(\"Hello there, is the combination of cheese and plums a good combination?\", \"user\"),\n",
        "    wrap_prompt(\"Arrrrrr. That be a dish only land-lubbers could enjoy. If that grub be on my ship, I'd toss it overboard!\", \"assistant\")\n",
        "]"
      ],
      "metadata": {
        "id": "DLCT0o5i0AEw"
      },
      "execution_count": null,
      "outputs": []
    },
    {
      "cell_type": "markdown",
      "source": [
        "Now we can append our *actual* prompt to the list!"
      ],
      "metadata": {
        "id": "i1k3xWIP0x5u"
      }
    },
    {
      "cell_type": "code",
      "source": [
        "prompt_list.append(wrap_prompt(\"Are pears a good choice for a salad?\", \"user\"))\n",
        "\n",
        "openai_response = get_response(prompt_list)\n",
        "m_print(openai_response)"
      ],
      "metadata": {
        "colab": {
          "base_uri": "https://localhost:8080/",
          "height": 64
        },
        "id": "CFeNREBW03G_",
        "outputId": "4ff66e0f-b38d-486d-d125-dcb8b876b150"
      },
      "execution_count": null,
      "outputs": [
        {
          "output_type": "display_data",
          "data": {
            "text/plain": [
              "<IPython.core.display.Markdown object>"
            ],
            "text/markdown": "Pears be a perfect choice for a salad, me hearty! Their sweet and juicy nature pairs well with a variety of greens, nuts, and dressings. Aye, 'tis a treasure worth plunderin'!"
          },
          "metadata": {}
        }
      ]
    },
    {
      "cell_type": "markdown",
      "source": [
        "Feel free to send some prompts and try out different things!\n",
        "\n",
        "Let us know if you find anything interesting!"
      ],
      "metadata": {
        "id": "ZJ2IuNHT1E8r"
      }
    }
  ],
  "metadata": {
    "kernelspec": {
      "display_name": "open_ai",
      "language": "python",
      "name": "python3"
    },
    "language_info": {
      "codemirror_mode": {
        "name": "ipython",
        "version": 3
      },
      "file_extension": ".py",
      "mimetype": "text/x-python",
      "name": "python",
      "nbconvert_exporter": "python",
      "pygments_lexer": "ipython3",
      "version": "3.10.10"
    },
    "orig_nbformat": 4,
    "colab": {
      "provenance": []
    }
  },
  "nbformat": 4,
  "nbformat_minor": 0
}